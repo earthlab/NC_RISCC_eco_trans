{
  "cells": [
    {
      "cell_type": "code",
      "execution_count": null,
      "metadata": {
        "id": "sXW5h0ZsfIRs"
      },
      "outputs": [],
      "source": [
        "import geopandas as gpd\n",
        "import os\n",
        "import pandas as pd\n",
        "from shapely.geometry import Point\n",
        "import zipfile"
      ]
    },
    {
      "cell_type": "markdown",
      "metadata": {},
      "source": [
        "#### Add the folder path where **Gedi L4A** csv's were downloaded in `path_` variable\n",
        "#### These csv's will be merged and then converted to one single .shp file"
      ]
    },
    {
      "cell_type": "code",
      "execution_count": null,
      "metadata": {
        "id": "UYKnTI-K7tvI"
      },
      "outputs": [],
      "source": [
        "path_ = \"/EarthLab/BulkDownload/agbd_output/2021/\"\n",
        "sorted_ = sorted(os.listdir(path_), key=lambda x: int(x.split(\".csv\")[0]))"
      ]
    },
    {
      "cell_type": "markdown",
      "metadata": {},
      "source": [
        "#### Add where to save converted csv file to .shp file in `merged_shapefile_path` variable\n",
        "#### Optionally add the shape file name in `merged_shapefile_name` variable"
      ]
    },
    {
      "cell_type": "code",
      "execution_count": null,
      "metadata": {
        "id": "lgTDoHeGAhuR"
      },
      "outputs": [],
      "source": [
        "# Read every csv file\n",
        "# Convert it into a Geo Dataframe and add it to a running \"merged\" geo-dataframe\n",
        "# Save the Geo Dataframe as a .shp file\n",
        "\n",
        "\n",
        "merged_shapefile_path = 'SHP_DATA_FOLDER_L4A_2021'\n",
        "merged_shapefile_name = 'merged_shapefile.shp'\n",
        "\n",
        "def read_csv_and_merge_shp():\n",
        "  gdfs = []\n",
        "  cols= ['lat_lowestmode',\n",
        " 'lon_lowestmode',\n",
        " 'elev_lowestmode',\n",
        " 'shot_number',\n",
        " 'agbd',\n",
        " 'l4_quality_flag',\n",
        " 'degrade_flag',\n",
        " 'agbd_se',\n",
        " 'land_cover_data/pft_class',\n",
        " 'solar_elevation']\n",
        "  for index, file_ in enumerate(sorted_):\n",
        "    print(file_)\n",
        "    csv_file_path = os.path.join(path_, file_)\n",
        "    df = pd.read_csv(csv_file_path)\n",
        "    computed_columns =  df.columns.tolist()\n",
        "    if computed_columns != cols:\n",
        "      df = pd.read_csv(csv_file_path, names=cols)\n",
        "    df['geometry'] = df.apply(lambda row: Point(row['lon_lowestmode'], row['lat_lowestmode']), axis=1)\n",
        "    gdf = gpd.GeoDataFrame(df, geometry='geometry')\n",
        "    gdf.set_crs(epsg=4326, inplace=True)\n",
        "    gdfs.append(gdf)\n",
        "  print(\"done creating all gdfs\")\n",
        "  base_crs = gdfs[0].crs\n",
        "  for i in range(1, len(gdfs)):\n",
        "      if gdfs[i].crs != base_crs:\n",
        "          gdfs[i] = gdfs[i].to_crs(base_crs)\n",
        "  merged_gdf = gpd.GeoDataFrame(pd.concat(gdfs, ignore_index=True))\n",
        "  os.makedirs(merged_shapefile_path, exist_ok=True)\n",
        "  merged_gdf.to_file(os.path.join(merged_shapefile_path, merged_shapefile_name))\n",
        "  print(f\"Merged shapefile created at {merged_shapefile_path}\")"
      ]
    },
    {
      "cell_type": "code",
      "execution_count": null,
      "metadata": {
        "colab": {
          "base_uri": "https://localhost:8080/"
        },
        "id": "8zwqRhNDDEnv",
        "outputId": "6df641ce-2d30-4d3f-9296-4c2e2f2088a5"
      },
      "outputs": [],
      "source": [
        "read_csv_and_merge_shp()"
      ]
    }
  ],
  "metadata": {
    "colab": {
      "provenance": []
    },
    "kernelspec": {
      "display_name": "Python 3",
      "name": "python3"
    },
    "language_info": {
      "name": "python"
    }
  },
  "nbformat": 4,
  "nbformat_minor": 0
}
